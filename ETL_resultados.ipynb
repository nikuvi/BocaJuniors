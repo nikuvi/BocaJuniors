{
 "cells": [
  {
   "cell_type": "code",
   "execution_count": null,
   "id": "9a22346c",
   "metadata": {},
   "outputs": [],
   "source": [
    "import pandas as pd\n",
    "import numpy as np\n",
    "import warnings\n",
    "\n",
    "warnings.filterwarnings(\"ignore\")"
   ]
  },
  {
   "cell_type": "code",
   "execution_count": null,
   "id": "da4f3dd2",
   "metadata": {},
   "outputs": [],
   "source": [
    "resultados = pd.read_csv(\"csv_originales/results.csv\", engine=\"python\") # Read CSV file with specified encoding and separator\n",
    "datos_bj = pd.read_csv(\"csv_originales/datos_partidos_boca_juniors.csv\", engine=\"python\") # Read CSV file with specified encoding and separator\n",
    "boca19_20 = pd.read_csv(\"csv_originales/boca_juniors19_20.csv\", engine=\"python\") # Read CSV file with specified encoding and separator\n",
    "boca20_21 = pd.read_csv(\"csv_originales/boca_juniors20_21.csv\", engine=\"python\") # Read CSV file with specified encoding and separator\n",
    "boca21_22 = pd.read_csv(\"csv_originales/boca_juniors21_22.csv\", engine=\"python\") # Read CSV file with specified encoding and separator\n",
    "boca22_23 = pd.read_csv(\"csv_originales/boca_juniors22_23.csv\", engine=\"python\") # Read CSV file with specified encoding and separator\n",
    "boca23_24 = pd.read_csv(\"csv_originales/boca_juniors23_24.csv\", engine=\"python\") # Read CSV file with specified encoding and separator"
   ]
  },
  {
   "cell_type": "code",
   "execution_count": null,
   "id": "5f90fa3f",
   "metadata": {},
   "outputs": [],
   "source": [
    "resultados"
   ]
  },
  {
   "cell_type": "code",
   "execution_count": null,
   "id": "e849869d",
   "metadata": {},
   "outputs": [],
   "source": [
    "resultados.info()"
   ]
  },
  {
   "cell_type": "code",
   "execution_count": null,
   "id": "efc02613",
   "metadata": {},
   "outputs": [],
   "source": [
    "resultados.isnull().sum()"
   ]
  },
  {
   "cell_type": "code",
   "execution_count": null,
   "id": "51dd644a",
   "metadata": {},
   "outputs": [],
   "source": [
    "# Creo un codigo para que me borre todas las filas que NO contengan el nombre de Boca Juniors en el dataset de resultados\n",
    "resultados = resultados[resultados['local_team'].str.contains(\"Boca Juniors\") | resultados['visitor_team'].str.contains(\"Boca Juniors\")]"
   ]
  },
  {
   "cell_type": "code",
   "execution_count": null,
   "id": "93606b0e",
   "metadata": {},
   "outputs": [],
   "source": [
    "# Elimino la columna llamada \"Unnamed: 0\" que no es necesaria\n",
    "resultados = resultados.drop(columns=[\"Unnamed: 0\"])"
   ]
  },
  {
   "cell_type": "code",
   "execution_count": null,
   "id": "16b84538",
   "metadata": {},
   "outputs": [],
   "source": [
    "# Extraigo el año de la columna 'date_name' y lo guardo en una nueva columna llamada 'year'\n",
    "resultados['year'] = resultados['date_name'].str.extract(r'(\\b(?:19|20)\\d{2}\\b)')"
   ]
  },
  {
   "cell_type": "code",
   "execution_count": 13,
   "id": "d1052fa4",
   "metadata": {},
   "outputs": [],
   "source": [
    "# Guardo el dataframe en un nuevo CSV dentro de la carpeta \"csv_limpios\"\n",
    "resultados.to_csv(\"csv_limpios/resultados_boca_juniors.csv\", index=False, encoding=\"utf-8-sig\")"
   ]
  }
 ],
 "metadata": {
  "kernelspec": {
   "display_name": "Python 3",
   "language": "python",
   "name": "python3"
  },
  "language_info": {
   "codemirror_mode": {
    "name": "ipython",
    "version": 3
   },
   "file_extension": ".py",
   "mimetype": "text/x-python",
   "name": "python",
   "nbconvert_exporter": "python",
   "pygments_lexer": "ipython3",
   "version": "3.13.2"
  }
 },
 "nbformat": 4,
 "nbformat_minor": 5
}
