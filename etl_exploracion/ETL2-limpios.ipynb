{
 "cells": [
  {
   "cell_type": "markdown",
   "id": "c3aebef8",
   "metadata": {},
   "source": [
    "# Retoques de los csv limpios"
   ]
  },
  {
   "cell_type": "code",
   "execution_count": null,
   "id": "1f4f36b9",
   "metadata": {},
   "outputs": [],
   "source": [
    "import polars as pl\n",
    "import pandas as pd\n",
    "import numpy as np\n",
    "import warnings\n",
    "\n",
    "warnings.filterwarnings(\"ignore\")"
   ]
  },
  {
   "cell_type": "code",
   "execution_count": null,
   "id": "9abcf4d0",
   "metadata": {},
   "outputs": [],
   "source": [
    "dbj = pd.read_csv(\"D:/Data Analitycs/Trabajo/GitHub-Repos/BocaJuniors/csv_limpios/datos_bj23.csv\")\n",
    "res = pd.read_csv(\"D:/Data Analitycs/Trabajo/GitHub-Repos/BocaJuniors/csv_limpios/resultados_boca_juniors.csv\")"
   ]
  },
  {
   "cell_type": "markdown",
   "id": "788762b7",
   "metadata": {},
   "source": [
    "## res"
   ]
  },
  {
   "cell_type": "code",
   "execution_count": null,
   "id": "a0ef2dba",
   "metadata": {},
   "outputs": [],
   "source": [
    "def describe_rapido(df):\n",
    "    \"\"\"\n",
    "    Versión rápida que solo imprime el describe de columnas numéricas\n",
    "    \"\"\"\n",
    "    for col in df.select_dtypes(include=[np.number]).columns:\n",
    "        print(f\"\\n--- {col} ---\")\n",
    "        print(df[col].describe())"
   ]
  },
  {
   "cell_type": "code",
   "execution_count": null,
   "id": "bca82c1d",
   "metadata": {},
   "outputs": [],
   "source": [
    "describe_rapido(res)"
   ]
  },
  {
   "cell_type": "code",
   "execution_count": null,
   "id": "dc1b7c33",
   "metadata": {},
   "outputs": [],
   "source": [
    "res"
   ]
  },
  {
   "cell_type": "markdown",
   "id": "3d5da12d",
   "metadata": {},
   "source": [
    "### Rename de columnas"
   ]
  },
  {
   "cell_type": "code",
   "execution_count": null,
   "id": "aff59435",
   "metadata": {},
   "outputs": [],
   "source": [
    "# Le cambio los nombres de las columnas de la tabla res\n",
    "res.rename(columns={\n",
    "    \"local_team_id\": \"Local_ID\",\n",
    "    \"local_team\": \"Local\",\n",
    "    \"local_result\": \"Resultado_L\",\n",
    "    \"visitor_result\": \"Resultado_V\",\n",
    "    \"visitor_team\": \"Visitante\",\n",
    "    \"visitor_team_id\": \"Visitante_ID\",\n",
    "    \"year\": \"Año\"\n",
    "}, inplace=True)\n",
    "# Reordenar las columnas\n",
    "res = res[[\"Año\", \"Local_ID\", \"Local\", \"Resultado_L\", \"Resultado_V\", \"Visitante_ID\", \"Visitante\", \"Fecha/Grupo\", \"Evento\"]]"
   ]
  },
  {
   "cell_type": "markdown",
   "id": "c3fc4245",
   "metadata": {},
   "source": [
    "### Carga csv con rename de columnas"
   ]
  },
  {
   "cell_type": "code",
   "execution_count": null,
   "id": "7fe1fbce",
   "metadata": {},
   "outputs": [],
   "source": [
    "res.to_csv(\"D:/Data Analitycs/Trabajo/GitHub-Repos/BocaJuniors/csv_limpios/resultados_boca_juniors.csv\", index=False)"
   ]
  },
  {
   "cell_type": "markdown",
   "id": "6eb9b537",
   "metadata": {},
   "source": [
    "## dbj"
   ]
  },
  {
   "cell_type": "code",
   "execution_count": null,
   "id": "428a49e6",
   "metadata": {},
   "outputs": [],
   "source": [
    "dbj"
   ]
  },
  {
   "cell_type": "markdown",
   "id": "f194ef3e",
   "metadata": {},
   "source": [
    "### Borrar columna 'Unnamed: 0'"
   ]
  },
  {
   "cell_type": "code",
   "execution_count": null,
   "id": "2f8f4b1b",
   "metadata": {},
   "outputs": [],
   "source": [
    "dbj.drop(columns=[\"Unnamed: 0\"], inplace=True)"
   ]
  },
  {
   "cell_type": "markdown",
   "id": "31175560",
   "metadata": {},
   "source": [
    "### Carga csv con columnas corregidas"
   ]
  },
  {
   "cell_type": "code",
   "execution_count": null,
   "id": "5891ef26",
   "metadata": {},
   "outputs": [],
   "source": [
    "dbj.to_csv(\"D:/Data Analitycs/Trabajo/GitHub-Repos/BocaJuniors/csv_limpios/datos_bj23.csv\", index=False)"
   ]
  }
 ],
 "metadata": {
  "kernelspec": {
   "display_name": "Python 3",
   "language": "python",
   "name": "python3"
  },
  "language_info": {
   "codemirror_mode": {
    "name": "ipython",
    "version": 3
   },
   "file_extension": ".py",
   "mimetype": "text/x-python",
   "name": "python",
   "nbconvert_exporter": "python",
   "pygments_lexer": "ipython3",
   "version": "3.13.2"
  }
 },
 "nbformat": 4,
 "nbformat_minor": 5
}
