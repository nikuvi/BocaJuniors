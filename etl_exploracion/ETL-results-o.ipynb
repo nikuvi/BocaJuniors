{
 "cells": [
  {
   "cell_type": "code",
   "execution_count": null,
   "id": "9a22346c",
   "metadata": {},
   "outputs": [],
   "source": [
    "import pandas as pd\n",
    "import numpy as np\n",
    "import warnings\n",
    "\n",
    "warnings.filterwarnings(\"ignore\")"
   ]
  },
  {
   "cell_type": "code",
   "execution_count": null,
   "id": "da4f3dd2",
   "metadata": {},
   "outputs": [],
   "source": [
    "resultados = pd.read_csv(\"csv_originales/results.csv\", engine=\"python\") # Read CSV file with specified encoding and separator"
   ]
  },
  {
   "cell_type": "markdown",
   "id": "efa9e6e6",
   "metadata": {},
   "source": [
    "## ETL results"
   ]
  },
  {
   "cell_type": "code",
   "execution_count": null,
   "id": "5f90fa3f",
   "metadata": {},
   "outputs": [],
   "source": [
    "resultados"
   ]
  },
  {
   "cell_type": "code",
   "execution_count": null,
   "id": "e849869d",
   "metadata": {},
   "outputs": [],
   "source": [
    "resultados.info()"
   ]
  },
  {
   "cell_type": "code",
   "execution_count": null,
   "id": "efc02613",
   "metadata": {},
   "outputs": [],
   "source": [
    "resultados.isnull().sum()"
   ]
  },
  {
   "cell_type": "code",
   "execution_count": null,
   "id": "51dd644a",
   "metadata": {},
   "outputs": [],
   "source": [
    "# Creo un codigo para que me borre todas las filas que NO contengan el nombre de Boca Juniors en el dataset de resultados\n",
    "resultados = resultados[resultados['local_team'].str.contains(\"Boca Juniors\") | resultados['visitor_team'].str.contains(\"Boca Juniors\")]"
   ]
  },
  {
   "cell_type": "code",
   "execution_count": null,
   "id": "93606b0e",
   "metadata": {},
   "outputs": [],
   "source": [
    "# Elimino la columna llamada \"Unnamed: 0\" que no es necesaria\n",
    "resultados = resultados.drop(columns=[\"Unnamed: 0\"])"
   ]
  },
  {
   "cell_type": "code",
   "execution_count": null,
   "id": "16b84538",
   "metadata": {},
   "outputs": [],
   "source": [
    "# Extraigo el año de la columna 'date_name' y lo guardo en una nueva columna llamada 'year'\n",
    "resultados['year'] = resultados['date_name'].str.extract(r'(\\b(?:19|20)\\d{2}\\b)')"
   ]
  },
  {
   "cell_type": "code",
   "execution_count": null,
   "id": "d1052fa4",
   "metadata": {},
   "outputs": [],
   "source": [
    "# Guardo el dataframe en un nuevo CSV dentro de la carpeta \"csv_limpios\"\n",
    "resultados.to_csv(\"csv_limpios/resultados_boca_juniors.csv\", index=False, encoding=\"utf-8-sig\")"
   ]
  },
  {
   "cell_type": "markdown",
   "id": "1c437595",
   "metadata": {},
   "source": [
    "-------------------"
   ]
  },
  {
   "cell_type": "code",
   "execution_count": null,
   "id": "623d0c6a",
   "metadata": {},
   "outputs": [],
   "source": [
    "res_l = pd.read_csv(\"csv_limpios/resultados_boca_juniors.csv\") # Read the cleaned CSV file"
   ]
  },
  {
   "cell_type": "code",
   "execution_count": null,
   "id": "f0fdeb9a",
   "metadata": {},
   "outputs": [],
   "source": [
    "res_l"
   ]
  },
  {
   "cell_type": "markdown",
   "id": "b44ded7a",
   "metadata": {},
   "source": [
    "## ETL datos_partidos_boca_juniors"
   ]
  },
  {
   "cell_type": "code",
   "execution_count": null,
   "id": "d4dea02a",
   "metadata": {},
   "outputs": [],
   "source": [
    "datos_bj = pd.read_csv(\"csv_originales/datos_partidos_boca_juniors.csv\", engine=\"python\") # Read CSV file with specified encoding and separator"
   ]
  },
  {
   "cell_type": "code",
   "execution_count": null,
   "id": "014a4387",
   "metadata": {},
   "outputs": [],
   "source": [
    "datos_bj"
   ]
  },
  {
   "cell_type": "code",
   "execution_count": null,
   "id": "63a46bc3",
   "metadata": {},
   "outputs": [],
   "source": [
    "datos_bj.isnull().sum()"
   ]
  },
  {
   "cell_type": "markdown",
   "id": "b6424eb6",
   "metadata": {},
   "source": [
    "Dejo solo los datos de Boca Juniors"
   ]
  },
  {
   "cell_type": "code",
   "execution_count": null,
   "id": "63c69aff",
   "metadata": {},
   "outputs": [],
   "source": [
    "# Creo un codigo para que me borre todas las filas que NO contengan el nombre de Boca Juniors en el dataset de datos_bj\n",
    "datos_bj = datos_bj[datos_bj['1'].str.contains(\"Boca Juniors\") | datos_bj['3'].str.contains(\"Boca Juniors\")]"
   ]
  },
  {
   "cell_type": "markdown",
   "id": "ac761624",
   "metadata": {},
   "source": [
    "Reemplazo 'Argentine Copa de la Liga Profesional', 'Copa de Liga Profesional' en la columna '5'"
   ]
  },
  {
   "cell_type": "code",
   "execution_count": null,
   "id": "53185adc",
   "metadata": {},
   "outputs": [],
   "source": [
    "# Creo una funcion para reemplazar valores de filas\n",
    "def replace_values(df, column, old_value, new_value):\n",
    "    df[column] = df[column].replace(old_value, new_value)\n",
    "    return df"
   ]
  },
  {
   "cell_type": "code",
   "execution_count": null,
   "id": "f6cfe64b",
   "metadata": {},
   "outputs": [],
   "source": [
    "replace_values(datos_bj, '5', 'Argentine Copa de la Liga Profesional', 'Copa de Liga Profesional')"
   ]
  },
  {
   "cell_type": "markdown",
   "id": "3b3b3fea",
   "metadata": {},
   "source": [
    "Columna NOTAS"
   ]
  },
  {
   "cell_type": "code",
   "execution_count": null,
   "id": "2cd875e8",
   "metadata": {},
   "outputs": [],
   "source": [
    "# Creo un codigo para crear una nueva columna llamada 'Notas' que contenga el texto de la columna '2' despues de los primeros 4 digitos\n",
    "datos_bj['Notas'] = datos_bj['2'].str[5:]"
   ]
  },
  {
   "cell_type": "markdown",
   "id": "02a8a059",
   "metadata": {},
   "source": [
    "Quedarme con solo los resultados en la columna '2'"
   ]
  },
  {
   "cell_type": "code",
   "execution_count": null,
   "id": "95ff7399",
   "metadata": {},
   "outputs": [],
   "source": [
    "# Creo un codigo para quedarme solo con los primeros 3 digitos de la columna '2' \n",
    "datos_bj['2'] = datos_bj['2'].str[:5]"
   ]
  },
  {
   "cell_type": "markdown",
   "id": "fad0ef95",
   "metadata": {},
   "source": [
    "### Creo una columna de Fecha desglozando la columna '0'"
   ]
  },
  {
   "cell_type": "markdown",
   "id": "36b3efe9",
   "metadata": {},
   "source": [
    "Extraigo el mes de la columna '0' y creo una nueva llamada 'Mes'"
   ]
  },
  {
   "cell_type": "code",
   "execution_count": null,
   "id": "aaeaf3a7",
   "metadata": {},
   "outputs": [],
   "source": [
    "# Creo un codigo para extraer el mes de la columna en texto '0', el cual son los ultimos 3 digitos y guardarlo en una nueva columna llamada 'Mes'\n",
    "datos_bj['Mes'] = datos_bj['0'].str[-4:-1]"
   ]
  },
  {
   "cell_type": "code",
   "execution_count": null,
   "id": "f9434a8c",
   "metadata": {},
   "outputs": [],
   "source": [
    "# Cambio el mes de la columna 'Mes' a su numero correspondiente sin importar mayusculas o minusculas\n",
    "meses = {\n",
    "    'ene': '01', 'feb': '02', 'mar': '03', 'abr': '04',\n",
    "    'may': '05', 'jun': '06', 'jul': '07', 'ago': '08',\n",
    "    'sep': '09', 'oct': '10', 'nov': '11', 'dic': '12'\n",
    "}\n",
    "datos_bj['Mes'] = datos_bj['Mes'].str.lower().map(meses)"
   ]
  },
  {
   "cell_type": "markdown",
   "id": "6dcd97d0",
   "metadata": {},
   "source": [
    "Extraigo el dia de la columna '0' y creo una nueva llamada 'Dia'"
   ]
  },
  {
   "cell_type": "code",
   "execution_count": null,
   "id": "dcd617f0",
   "metadata": {},
   "outputs": [],
   "source": [
    "# Extraigo el dia de la columna '0' y lo guardo en una nueva columna llamada 'Dia'\n",
    "datos_bj['Dia'] = datos_bj['0'].str[-10:-8]"
   ]
  },
  {
   "cell_type": "code",
   "execution_count": null,
   "id": "409d617f",
   "metadata": {},
   "outputs": [],
   "source": [
    "# Con las columnas 'Dia' y 'Mes' creo una nueva columna llamada 'Fecha' con el formato 'DD/MM/2023' \n",
    "datos_bj['Fecha'] = datos_bj['Dia'] + '/' + datos_bj['Mes'] + '/2023'\n",
    "# Paso a formato fecha la columna 'Fecha'\n",
    "datos_bj['Fecha'] = pd.to_datetime(datos_bj['Fecha'], format='%d/%m/%Y')"
   ]
  },
  {
   "cell_type": "markdown",
   "id": "31975807",
   "metadata": {},
   "source": [
    "Borro columna '0', 'Dia' y 'Mes'"
   ]
  },
  {
   "cell_type": "code",
   "execution_count": null,
   "id": "daaaadd9",
   "metadata": {},
   "outputs": [],
   "source": [
    "datos_bj.drop(columns=['0', 'Dia', 'Mes'], inplace=True)"
   ]
  },
  {
   "cell_type": "markdown",
   "id": "f23b8489",
   "metadata": {},
   "source": [
    "Reemplazo nombres de columnas para que sea mas legible."
   ]
  },
  {
   "cell_type": "code",
   "execution_count": null,
   "id": "a6e62c93",
   "metadata": {},
   "outputs": [],
   "source": [
    "datos_bj"
   ]
  },
  {
   "cell_type": "code",
   "execution_count": null,
   "id": "f733d628",
   "metadata": {},
   "outputs": [],
   "source": [
    "# Reemplazo nombres de columnas para que sea mas legible.\n",
    "datos_bj.columns = ['Local', 'Resultado', 'Visitante', 'Status', 'Competition', 'Notas', 'Fecha']"
   ]
  },
  {
   "cell_type": "markdown",
   "id": "22fb9d32",
   "metadata": {},
   "source": [
    "Cargo csv a carpeta CSV_LIMPIOS"
   ]
  },
  {
   "cell_type": "code",
   "execution_count": null,
   "id": "a06e5d17",
   "metadata": {},
   "outputs": [],
   "source": [
    "datos_bj.to_csv(\"csv_limpios/datos_bj23.csv\")"
   ]
  },
  {
   "cell_type": "markdown",
   "id": "28df11eb",
   "metadata": {},
   "source": [
    "--------------------------------"
   ]
  },
  {
   "cell_type": "markdown",
   "id": "da8c5f7e",
   "metadata": {},
   "source": [
    "### Ultimos cambios en los csv de la carpeta csv_limpios (datos_bj23 y resultados_boca_juniors)"
   ]
  },
  {
   "cell_type": "code",
   "execution_count": null,
   "id": "f5509025",
   "metadata": {},
   "outputs": [],
   "source": [
    "datos_23 = pd.read_csv(\"csv_limpios/datos_bj23.csv\") # Read the cleaned CSV file\n",
    "res_l = pd.read_csv(\"csv_limpios/resultados_boca_juniors.csv\") # Read the cleaned CSV file"
   ]
  },
  {
   "cell_type": "markdown",
   "id": "4a66b477",
   "metadata": {},
   "source": [
    "## datos_23 (datos_bj23)"
   ]
  },
  {
   "cell_type": "code",
   "execution_count": null,
   "id": "2d2d0918",
   "metadata": {},
   "outputs": [],
   "source": [
    "datos_23"
   ]
  },
  {
   "cell_type": "code",
   "execution_count": null,
   "id": "3bc95ac4",
   "metadata": {},
   "outputs": [],
   "source": [
    "datos_23.drop(columns=['Unnamed: 0'], inplace=True) # Drop unnecessary column"
   ]
  },
  {
   "cell_type": "code",
   "execution_count": null,
   "id": "ff8bb781",
   "metadata": {},
   "outputs": [],
   "source": [
    "# Con el dataframe guardado en la variable equipos con las id de los equipos, creo una nueva columna en datos_23 llamada 'local_team_id' que contenga el id del equipo local que coincida con el nombre del equipo local en la columna 'Local', y lo mismo con 'Visitante' \n",
    "equipos_local2 = equipos[equipos['team_name'].isin(datos_23['Local'])][['team_id', 'team_name']]\n",
    "equipos_visitante2 = equipos[equipos['team_name'].isin(datos_23['Visitante'])][['team_id', 'team_name']]\n",
    "# Con las variables creadas creo 2 columnas nuevas en datos_23 llamadas 'local_team_id' y 'visitor_team_id' que contengan el id del equipo local y visitante respectivamente\n",
    "datos_23['local_team_id'] = datos_23['Local'].map(equipos_local2.set_index('team_name')['team_id'])\n",
    "datos_23['visitor_team_id'] = datos_23['Visitante'].map(equipos_visitante2.set_index('team_name')['team_id'])\n"
   ]
  },
  {
   "cell_type": "code",
   "execution_count": null,
   "id": "40ef04ce",
   "metadata": {},
   "outputs": [],
   "source": [
    "equipos_local2"
   ]
  },
  {
   "cell_type": "markdown",
   "id": "bc9c451b",
   "metadata": {},
   "source": [
    "## res_l (resultados_boca_juniors)"
   ]
  },
  {
   "cell_type": "code",
   "execution_count": null,
   "id": "95281cee",
   "metadata": {},
   "outputs": [],
   "source": [
    "res_l"
   ]
  },
  {
   "cell_type": "code",
   "execution_count": null,
   "id": "b227a2e8",
   "metadata": {},
   "outputs": [],
   "source": [
    "# Con las columnas de local_team_id, local_team y visitor_team y visitor_team_id creo un array donde me muestre el id del equipo y el nombre del equipo\n",
    "equipo_local = resultados[['local_team_id', 'local_team']].drop_duplicates().rename(columns={'local_team_id': 'team_id', 'local_team': 'team_name'})\n",
    "equipo_visitante = resultados[['visitor_team_id', 'visitor_team']].drop_duplicates().rename(columns={'visitor_team_id': 'team_id', 'visitor_team': 'team_name'})\n",
    "equipos = pd.concat([equipo_local, equipo_visitante]).drop_duplicates().reset_index(drop=True)\n",
    "# Con el array de equipos creo un nuevo dataframe donde me muestre el id del equipo y el nombre del equipo\n",
    "equipos_df = pd.DataFrame(equipos)\n"
   ]
  },
  {
   "cell_type": "code",
   "execution_count": null,
   "id": "44120642",
   "metadata": {},
   "outputs": [],
   "source": [
    "equipos"
   ]
  },
  {
   "cell_type": "markdown",
   "id": "4a32e804",
   "metadata": {},
   "source": [
    "Creo columna Fecha/Grupo extrayendo de date_name los ultimos 8 digitos"
   ]
  },
  {
   "cell_type": "code",
   "execution_count": null,
   "id": "cb242bae",
   "metadata": {},
   "outputs": [],
   "source": [
    "res_l['Fecha/Grupo'] = res_l['date_name'].str[-8:]"
   ]
  },
  {
   "cell_type": "code",
   "execution_count": null,
   "id": "04db4445",
   "metadata": {},
   "outputs": [],
   "source": [
    "res_l['Evento'] = res_l['date_name'].str[:-10]"
   ]
  },
  {
   "cell_type": "markdown",
   "id": "efe0e29d",
   "metadata": {},
   "source": [
    "Cargo el csv modificado de la variable res_l al csv resultados_boca_juniors en la carpeta csv_limpios"
   ]
  },
  {
   "cell_type": "code",
   "execution_count": null,
   "id": "968bf67d",
   "metadata": {},
   "outputs": [],
   "source": [
    "res_l.to_csv(\"csv_limpios/resultados_boca_juniors.csv\", index=False, encoding=\"utf-8-sig\") # Save the modified DataFrame to CSV"
   ]
  }
 ],
 "metadata": {
  "kernelspec": {
   "display_name": "Python 3",
   "language": "python",
   "name": "python3"
  },
  "language_info": {
   "codemirror_mode": {
    "name": "ipython",
    "version": 3
   },
   "file_extension": ".py",
   "mimetype": "text/x-python",
   "name": "python",
   "nbconvert_exporter": "python",
   "pygments_lexer": "ipython3",
   "version": "3.13.2"
  }
 },
 "nbformat": 4,
 "nbformat_minor": 5
}
