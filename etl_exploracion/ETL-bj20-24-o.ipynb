{
 "cells": [
  {
   "cell_type": "code",
   "execution_count": 2,
   "id": "8c290beb",
   "metadata": {},
   "outputs": [],
   "source": [
    "import pandas as pd\n",
    "import numpy as np\n",
    "import warnings\n",
    "\n",
    "warnings.filterwarnings(\"ignore\")"
   ]
  },
  {
   "cell_type": "markdown",
   "id": "3146f321",
   "metadata": {},
   "source": [
    "## Cargo csv de boca_juniors en variantes."
   ]
  },
  {
   "cell_type": "code",
   "execution_count": 3,
   "id": "f9e1cfab",
   "metadata": {},
   "outputs": [],
   "source": [
    "bj20 = pd.read_csv(\"D:/Data Analitycs/Trabajo/GitHub-Repos/BocaJuniors/csv_originales/boca_juniors19_20.csv\", encoding=\"utf-8\")\n",
    "bj21 = pd.read_csv(\"D:/Data Analitycs/Trabajo/GitHub-Repos/BocaJuniors/csv_originales/boca_juniors20_21.csv\", encoding=\"utf-8\")\n",
    "bj22 = pd.read_csv(\"D:/Data Analitycs/Trabajo/GitHub-Repos/BocaJuniors/csv_originales/boca_juniors21_22.csv\", encoding=\"utf-8\")\n",
    "bj23 = pd.read_csv(\"D:/Data Analitycs/Trabajo/GitHub-Repos/BocaJuniors/csv_originales/boca_juniors22_23.csv\", encoding=\"utf-8\")\n",
    "bj24 = pd.read_csv(\"D:/Data Analitycs/Trabajo/GitHub-Repos/BocaJuniors/csv_originales/boca_juniors23_24.csv\", encoding=\"utf-8\")"
   ]
  },
  {
   "cell_type": "markdown",
   "id": "b30f75ea",
   "metadata": {},
   "source": [
    "------------------------------------------------"
   ]
  },
  {
   "cell_type": "markdown",
   "id": "800be433",
   "metadata": {},
   "source": [
    "#### bj20"
   ]
  },
  {
   "cell_type": "markdown",
   "id": "13968636",
   "metadata": {},
   "source": [
    "Hago rename a las columnas para mejor legibildad."
   ]
  },
  {
   "cell_type": "code",
   "execution_count": null,
   "id": "528e39a9",
   "metadata": {},
   "outputs": [],
   "source": [
    "bj20.rename(columns={\n",
    "                    \"0\": \"Fecha\",\n",
    "                    \"1\": \"Local\",\n",
    "                    \"2\": \"Resultado_L\",\n",
    "                    \"3\": \"Visitante\",\n",
    "                    \"4\": \"Estado\",\n",
    "                    \"5\": \"Torneo\"\n",
    "                    }, inplace=True)"
   ]
  },
  {
   "cell_type": "code",
   "execution_count": null,
   "id": "f5a7aae9",
   "metadata": {},
   "outputs": [],
   "source": [
    "# Elimino filas completas nulas\n",
    "bj20.dropna(how=\"all\", inplace=True)"
   ]
  },
  {
   "cell_type": "code",
   "execution_count": null,
   "id": "8522dc92",
   "metadata": {},
   "outputs": [],
   "source": [
    "# Agrego una columna de Año donde el valor es 2020\n",
    "bj20[\"Año\"] = 2020\n",
    "# Cambio formato de la columna Año a int\n",
    "bj20[\"Año\"] = bj20[\"Año\"].astype(int)"
   ]
  },
  {
   "cell_type": "code",
   "execution_count": null,
   "id": "1cf75727",
   "metadata": {},
   "outputs": [],
   "source": [
    "# Extraigo el mes de la columna Fecha y lo guardo en una nueva columna llamada Mes\n",
    "bj20['Mes'] = bj20['Fecha'].str[-4:-1]\n",
    "# Cambio los meses a su correspondiente numero\n",
    "meses = {\n",
    "    \"ene\": \"01\",\n",
    "    \"feb\": \"02\",\n",
    "    \"mar\": \"03\",\n",
    "    \"abr\": \"04\",\n",
    "    \"may\": \"05\",\n",
    "    \"jun\": \"06\",\n",
    "    \"jul\": \"07\",\n",
    "    \"ago\": \"08\",\n",
    "    \"sep\": \"09\",\n",
    "    \"oct\": \"10\",\n",
    "    \"nov\": \"11\",\n",
    "    \"dic\": \"12\"\n",
    "}\n",
    "bj20['Mes'] = bj20['Mes'].str.lower().map(meses)\n",
    "# Cambio el formato de la columna Mes a int\n",
    "bj20['Mes'] = bj20['Mes'].astype(int)"
   ]
  },
  {
   "cell_type": "code",
   "execution_count": null,
   "id": "5f9bf983",
   "metadata": {},
   "outputs": [],
   "source": [
    "# Extraigo el día de la columna Fecha que se encuentra despues del \".,\" y lo guardo en una nueva columna llamada Día\n",
    "bj20['Día'] = bj20['Fecha'].str[5:-7]\n",
    "# Cambio formato de la columna Día a int\n",
    "bj20['Día'] = bj20['Día'].astype(int)"
   ]
  },
  {
   "cell_type": "markdown",
   "id": "ac34589f",
   "metadata": {},
   "source": [
    "Reemplazo la columna Fecha con las fechas correspondientes y en un mejor formato."
   ]
  },
  {
   "cell_type": "code",
   "execution_count": null,
   "id": "cf960792",
   "metadata": {},
   "outputs": [],
   "source": [
    "bj20.drop(columns=[\"Fecha\"], inplace=True)"
   ]
  },
  {
   "cell_type": "code",
   "execution_count": null,
   "id": "b4d55cb5",
   "metadata": {},
   "outputs": [],
   "source": [
    "# Reemplazo la columna Fecha con las fechas correspondientes y en un mejor formato usando las columnas Día, Mes y Año\n",
    "bj20['Fecha'] = pd.to_datetime(bj20['Día'].astype(str) + '-' + bj20['Mes'].astype(str) + '-' + bj20['Año'].astype(str), format='%d-%m-%Y')"
   ]
  },
  {
   "cell_type": "markdown",
   "id": "a64b06e5",
   "metadata": {},
   "source": [
    "Cargo el csv limpio a la carpeta de csv_limpios"
   ]
  },
  {
   "cell_type": "code",
   "execution_count": null,
   "id": "d6d285d4",
   "metadata": {},
   "outputs": [],
   "source": [
    "bj20.to_csv(\"D:/Data Analitycs/Trabajo/GitHub-Repos/BocaJuniors/csv_limpios/bj20.csv\", index=False, encoding=\"utf-8\")"
   ]
  }
 ],
 "metadata": {
  "kernelspec": {
   "display_name": "Python 3",
   "language": "python",
   "name": "python3"
  },
  "language_info": {
   "codemirror_mode": {
    "name": "ipython",
    "version": 3
   },
   "file_extension": ".py",
   "mimetype": "text/x-python",
   "name": "python",
   "nbconvert_exporter": "python",
   "pygments_lexer": "ipython3",
   "version": "3.13.2"
  }
 },
 "nbformat": 4,
 "nbformat_minor": 5
}
